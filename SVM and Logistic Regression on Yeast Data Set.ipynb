{
 "cells": [
  {
   "cell_type": "markdown",
   "id": "da5c4e7e",
   "metadata": {},
   "source": [
    "# Application and Comparison of SVM and Logistic Regression on Yeast Data Set"
   ]
  },
  {
   "cell_type": "markdown",
   "id": "502040f0",
   "metadata": {},
   "source": [
    "This project aims to predict the <code>localization_site</code> variables of proteins using the <code>yeast</code> dataset containing non-numeric attributes, building upon the findings of a predecessor dataset and using SVM and Logistic Regression models for this purpose.\n",
    "\n",
    "Now we can start by examining yeast data set's properties."
   ]
  },
  {
   "cell_type": "markdown",
   "id": "2749d8e8",
   "metadata": {},
   "source": [
    "### Discovering the Data Set\n",
    "\n",
    "Firstly, let's install and import the data set."
   ]
  },
  {
   "cell_type": "code",
   "execution_count": 1,
   "id": "f3b2729d",
   "metadata": {},
   "outputs": [
    {
     "name": "stdout",
     "output_type": "stream",
     "text": [
      "Requirement already satisfied: ucimlrepo in /home/mert/anaconda3/lib/python3.11/site-packages (0.0.6)\n",
      "Data set successfully installed, imported.\n",
      "Pandas has been imported.\n"
     ]
    }
   ],
   "source": [
    "# data set installation\n",
    "!pip install ucimlrepo\n",
    "import pandas as pd\n",
    "\n",
    "print(\"Data set successfully installed, imported.\")\n",
    "print('Pandas has been imported.')"
   ]
  },
  {
   "cell_type": "markdown",
   "id": "fe5295a6",
   "metadata": {},
   "source": [
    "We installed our data set library. We use it like an API. Now, it is time to make our data set usable for the project. Below, we will call our data set and make it <code>Pandas DataFrame</code>."
   ]
  },
  {
   "cell_type": "code",
   "execution_count": 2,
   "id": "d8b060de",
   "metadata": {},
   "outputs": [
    {
     "name": "stdout",
     "output_type": "stream",
     "text": [
      "Success.\n"
     ]
    }
   ],
   "source": [
    "# import our data set and create its variables\n",
    "from ucimlrepo import fetch_ucirepo\n",
    "\n",
    "# fetch dataset\n",
    "yeast = fetch_ucirepo(id=110)\n",
    "  \n",
    "# data (as pandas dataframes)\n",
    "X = pd.DataFrame(yeast.data.features)\n",
    "y = pd.DataFrame(yeast.data.targets)\n",
    "\n",
    "# metadata\n",
    "# print(yeast.metadata)\n",
    "\n",
    "# variable information\n",
    "# print(yeast.variables)\n",
    "\n",
    "print('Success.')"
   ]
  },
  {
   "cell_type": "markdown",
   "id": "a7835ed3",
   "metadata": {},
   "source": [
    "### Review of the Data Set"
   ]
  },
  {
   "cell_type": "markdown",
   "id": "d6230edc",
   "metadata": {},
   "source": [
    "Right now, we are ready to get informations about the data set. Firstly, we will learn about the <code>features</code> and <code>targets</code> about our yeast data set."
   ]
  },
  {
   "cell_type": "code",
   "execution_count": 3,
   "id": "d5a61c0c",
   "metadata": {},
   "outputs": [
    {
     "name": "stdout",
     "output_type": "stream",
     "text": [
      "Shape of X is (1484, 8) \n",
      "Shape of y is (1484, 1) \n"
     ]
    }
   ],
   "source": [
    "# shapes of the data set\n",
    "print('Shape of X is {} '.format(X.shape))\n",
    "print('Shape of y is {} '.format(y.shape))"
   ]
  },
  {
   "cell_type": "markdown",
   "id": "54886e55",
   "metadata": {},
   "source": [
    "Next, we can show the first 5 columns of our feature and target data set."
   ]
  },
  {
   "cell_type": "code",
   "execution_count": 4,
   "id": "060851f9",
   "metadata": {},
   "outputs": [
    {
     "data": {
      "text/html": [
       "<div>\n",
       "<style scoped>\n",
       "    .dataframe tbody tr th:only-of-type {\n",
       "        vertical-align: middle;\n",
       "    }\n",
       "\n",
       "    .dataframe tbody tr th {\n",
       "        vertical-align: top;\n",
       "    }\n",
       "\n",
       "    .dataframe thead th {\n",
       "        text-align: right;\n",
       "    }\n",
       "</style>\n",
       "<table border=\"1\" class=\"dataframe\">\n",
       "  <thead>\n",
       "    <tr style=\"text-align: right;\">\n",
       "      <th></th>\n",
       "      <th>mcg</th>\n",
       "      <th>gvh</th>\n",
       "      <th>alm</th>\n",
       "      <th>mit</th>\n",
       "      <th>erl</th>\n",
       "      <th>pox</th>\n",
       "      <th>vac</th>\n",
       "      <th>nuc</th>\n",
       "    </tr>\n",
       "  </thead>\n",
       "  <tbody>\n",
       "    <tr>\n",
       "      <th>0</th>\n",
       "      <td>0.58</td>\n",
       "      <td>0.61</td>\n",
       "      <td>0.47</td>\n",
       "      <td>0.13</td>\n",
       "      <td>0.5</td>\n",
       "      <td>0.0</td>\n",
       "      <td>0.48</td>\n",
       "      <td>0.22</td>\n",
       "    </tr>\n",
       "    <tr>\n",
       "      <th>1</th>\n",
       "      <td>0.43</td>\n",
       "      <td>0.67</td>\n",
       "      <td>0.48</td>\n",
       "      <td>0.27</td>\n",
       "      <td>0.5</td>\n",
       "      <td>0.0</td>\n",
       "      <td>0.53</td>\n",
       "      <td>0.22</td>\n",
       "    </tr>\n",
       "    <tr>\n",
       "      <th>2</th>\n",
       "      <td>0.64</td>\n",
       "      <td>0.62</td>\n",
       "      <td>0.49</td>\n",
       "      <td>0.15</td>\n",
       "      <td>0.5</td>\n",
       "      <td>0.0</td>\n",
       "      <td>0.53</td>\n",
       "      <td>0.22</td>\n",
       "    </tr>\n",
       "    <tr>\n",
       "      <th>3</th>\n",
       "      <td>0.58</td>\n",
       "      <td>0.44</td>\n",
       "      <td>0.57</td>\n",
       "      <td>0.13</td>\n",
       "      <td>0.5</td>\n",
       "      <td>0.0</td>\n",
       "      <td>0.54</td>\n",
       "      <td>0.22</td>\n",
       "    </tr>\n",
       "    <tr>\n",
       "      <th>4</th>\n",
       "      <td>0.42</td>\n",
       "      <td>0.44</td>\n",
       "      <td>0.48</td>\n",
       "      <td>0.54</td>\n",
       "      <td>0.5</td>\n",
       "      <td>0.0</td>\n",
       "      <td>0.48</td>\n",
       "      <td>0.22</td>\n",
       "    </tr>\n",
       "  </tbody>\n",
       "</table>\n",
       "</div>"
      ],
      "text/plain": [
       "    mcg   gvh   alm   mit  erl  pox   vac   nuc\n",
       "0  0.58  0.61  0.47  0.13  0.5  0.0  0.48  0.22\n",
       "1  0.43  0.67  0.48  0.27  0.5  0.0  0.53  0.22\n",
       "2  0.64  0.62  0.49  0.15  0.5  0.0  0.53  0.22\n",
       "3  0.58  0.44  0.57  0.13  0.5  0.0  0.54  0.22\n",
       "4  0.42  0.44  0.48  0.54  0.5  0.0  0.48  0.22"
      ]
     },
     "execution_count": 4,
     "metadata": {},
     "output_type": "execute_result"
    }
   ],
   "source": [
    "# first 5 columns of X\n",
    "X.head()"
   ]
  },
  {
   "cell_type": "code",
   "execution_count": 5,
   "id": "018f41a3",
   "metadata": {},
   "outputs": [
    {
     "data": {
      "text/html": [
       "<div>\n",
       "<style scoped>\n",
       "    .dataframe tbody tr th:only-of-type {\n",
       "        vertical-align: middle;\n",
       "    }\n",
       "\n",
       "    .dataframe tbody tr th {\n",
       "        vertical-align: top;\n",
       "    }\n",
       "\n",
       "    .dataframe thead th {\n",
       "        text-align: right;\n",
       "    }\n",
       "</style>\n",
       "<table border=\"1\" class=\"dataframe\">\n",
       "  <thead>\n",
       "    <tr style=\"text-align: right;\">\n",
       "      <th></th>\n",
       "      <th>localization_site</th>\n",
       "    </tr>\n",
       "  </thead>\n",
       "  <tbody>\n",
       "    <tr>\n",
       "      <th>0</th>\n",
       "      <td>MIT</td>\n",
       "    </tr>\n",
       "    <tr>\n",
       "      <th>1</th>\n",
       "      <td>MIT</td>\n",
       "    </tr>\n",
       "    <tr>\n",
       "      <th>2</th>\n",
       "      <td>MIT</td>\n",
       "    </tr>\n",
       "    <tr>\n",
       "      <th>3</th>\n",
       "      <td>NUC</td>\n",
       "    </tr>\n",
       "    <tr>\n",
       "      <th>4</th>\n",
       "      <td>MIT</td>\n",
       "    </tr>\n",
       "  </tbody>\n",
       "</table>\n",
       "</div>"
      ],
      "text/plain": [
       "  localization_site\n",
       "0               MIT\n",
       "1               MIT\n",
       "2               MIT\n",
       "3               NUC\n",
       "4               MIT"
      ]
     },
     "execution_count": 5,
     "metadata": {},
     "output_type": "execute_result"
    }
   ],
   "source": [
    "# first 5 columns of y\n",
    "y.head()"
   ]
  },
  {
   "cell_type": "markdown",
   "id": "a1245dd7",
   "metadata": {},
   "source": [
    "As you can see above, we have some numerical values in our feature data set. In our target data set, we have some location sites. From feature data set, we will predict our localization data set. This is our aim in this project.\n",
    "\n",
    "But first, we need to make our target data set numerical. As you can see above, it has no numerical values in itself. It will be solved later in this project -you can see it in data preprocessing part.\n",
    "\n",
    "It is time for controlling our columns if they have null values."
   ]
  },
  {
   "cell_type": "code",
   "execution_count": 6,
   "id": "847bd95e",
   "metadata": {},
   "outputs": [
    {
     "name": "stdout",
     "output_type": "stream",
     "text": [
      "For our feature data set:\n",
      "mcg    0\n",
      "gvh    0\n",
      "alm    0\n",
      "mit    0\n",
      "erl    0\n",
      "pox    0\n",
      "vac    0\n",
      "nuc    0\n",
      "dtype: int64\n",
      "\n",
      "**************\n",
      "\n",
      "For our variable data set:\n",
      "localization_site    0\n",
      "dtype: int64\n"
     ]
    }
   ],
   "source": [
    "# finding if null columns exist in the data sets\n",
    "print('For our feature data set:\\n{}'.format(X.isnull().sum()))\n",
    "print('\\n**************\\n')\n",
    "print('For our variable data set:\\n{}'.format(y.isnull().sum()))"
   ]
  },
  {
   "cell_type": "markdown",
   "id": "ddbd1689",
   "metadata": {},
   "source": [
    "Good news! There is no empty cells in our data set as you can see. Our data preprocessing part will be faster with this info.\n",
    "\n",
    "So, we said <code>info</code>. We use <code>.info()</code> for taking some useful infos from our data sets."
   ]
  },
  {
   "cell_type": "code",
   "execution_count": 7,
   "id": "e2ab1f59",
   "metadata": {},
   "outputs": [
    {
     "name": "stdout",
     "output_type": "stream",
     "text": [
      "<class 'pandas.core.frame.DataFrame'>\n",
      "RangeIndex: 1484 entries, 0 to 1483\n",
      "Data columns (total 8 columns):\n",
      " #   Column  Non-Null Count  Dtype  \n",
      "---  ------  --------------  -----  \n",
      " 0   mcg     1484 non-null   float64\n",
      " 1   gvh     1484 non-null   float64\n",
      " 2   alm     1484 non-null   float64\n",
      " 3   mit     1484 non-null   float64\n",
      " 4   erl     1484 non-null   float64\n",
      " 5   pox     1484 non-null   float64\n",
      " 6   vac     1484 non-null   float64\n",
      " 7   nuc     1484 non-null   float64\n",
      "dtypes: float64(8)\n",
      "memory usage: 92.9 KB\n"
     ]
    }
   ],
   "source": [
    "# infos from X\n",
    "X.info()"
   ]
  },
  {
   "cell_type": "code",
   "execution_count": 8,
   "id": "fa132edc",
   "metadata": {},
   "outputs": [
    {
     "name": "stdout",
     "output_type": "stream",
     "text": [
      "<class 'pandas.core.frame.DataFrame'>\n",
      "RangeIndex: 1484 entries, 0 to 1483\n",
      "Data columns (total 1 columns):\n",
      " #   Column             Non-Null Count  Dtype \n",
      "---  ------             --------------  ----- \n",
      " 0   localization_site  1484 non-null   object\n",
      "dtypes: object(1)\n",
      "memory usage: 11.7+ KB\n"
     ]
    }
   ],
   "source": [
    "# infos from y\n",
    "y.info()"
   ]
  },
  {
   "cell_type": "markdown",
   "id": "faaa1cb6",
   "metadata": {},
   "source": [
    "We know almostly everything about our data sets right now. We know their types, dtypes of every columns, how many entries we have, how many memory we use, etc. It is enough for now.\n",
    "\n",
    "For now, we will take their <code>.describe()</code> and finish this section."
   ]
  },
  {
   "cell_type": "code",
   "execution_count": 9,
   "id": "d11e44f0",
   "metadata": {},
   "outputs": [
    {
     "data": {
      "text/html": [
       "<div>\n",
       "<style scoped>\n",
       "    .dataframe tbody tr th:only-of-type {\n",
       "        vertical-align: middle;\n",
       "    }\n",
       "\n",
       "    .dataframe tbody tr th {\n",
       "        vertical-align: top;\n",
       "    }\n",
       "\n",
       "    .dataframe thead th {\n",
       "        text-align: right;\n",
       "    }\n",
       "</style>\n",
       "<table border=\"1\" class=\"dataframe\">\n",
       "  <thead>\n",
       "    <tr style=\"text-align: right;\">\n",
       "      <th></th>\n",
       "      <th>mcg</th>\n",
       "      <th>gvh</th>\n",
       "      <th>alm</th>\n",
       "      <th>mit</th>\n",
       "      <th>erl</th>\n",
       "      <th>pox</th>\n",
       "      <th>vac</th>\n",
       "      <th>nuc</th>\n",
       "    </tr>\n",
       "  </thead>\n",
       "  <tbody>\n",
       "    <tr>\n",
       "      <th>count</th>\n",
       "      <td>1484.000000</td>\n",
       "      <td>1484.000000</td>\n",
       "      <td>1484.000000</td>\n",
       "      <td>1484.000000</td>\n",
       "      <td>1484.000000</td>\n",
       "      <td>1484.000000</td>\n",
       "      <td>1484.000000</td>\n",
       "      <td>1484.000000</td>\n",
       "    </tr>\n",
       "    <tr>\n",
       "      <th>mean</th>\n",
       "      <td>0.500121</td>\n",
       "      <td>0.499933</td>\n",
       "      <td>0.500034</td>\n",
       "      <td>0.261186</td>\n",
       "      <td>0.504717</td>\n",
       "      <td>0.007500</td>\n",
       "      <td>0.499885</td>\n",
       "      <td>0.276199</td>\n",
       "    </tr>\n",
       "    <tr>\n",
       "      <th>std</th>\n",
       "      <td>0.137299</td>\n",
       "      <td>0.123924</td>\n",
       "      <td>0.086670</td>\n",
       "      <td>0.137098</td>\n",
       "      <td>0.048351</td>\n",
       "      <td>0.075683</td>\n",
       "      <td>0.057797</td>\n",
       "      <td>0.106491</td>\n",
       "    </tr>\n",
       "    <tr>\n",
       "      <th>min</th>\n",
       "      <td>0.110000</td>\n",
       "      <td>0.130000</td>\n",
       "      <td>0.210000</td>\n",
       "      <td>0.000000</td>\n",
       "      <td>0.500000</td>\n",
       "      <td>0.000000</td>\n",
       "      <td>0.000000</td>\n",
       "      <td>0.000000</td>\n",
       "    </tr>\n",
       "    <tr>\n",
       "      <th>25%</th>\n",
       "      <td>0.410000</td>\n",
       "      <td>0.420000</td>\n",
       "      <td>0.460000</td>\n",
       "      <td>0.170000</td>\n",
       "      <td>0.500000</td>\n",
       "      <td>0.000000</td>\n",
       "      <td>0.480000</td>\n",
       "      <td>0.220000</td>\n",
       "    </tr>\n",
       "    <tr>\n",
       "      <th>50%</th>\n",
       "      <td>0.490000</td>\n",
       "      <td>0.490000</td>\n",
       "      <td>0.510000</td>\n",
       "      <td>0.220000</td>\n",
       "      <td>0.500000</td>\n",
       "      <td>0.000000</td>\n",
       "      <td>0.510000</td>\n",
       "      <td>0.220000</td>\n",
       "    </tr>\n",
       "    <tr>\n",
       "      <th>75%</th>\n",
       "      <td>0.580000</td>\n",
       "      <td>0.570000</td>\n",
       "      <td>0.550000</td>\n",
       "      <td>0.320000</td>\n",
       "      <td>0.500000</td>\n",
       "      <td>0.000000</td>\n",
       "      <td>0.530000</td>\n",
       "      <td>0.300000</td>\n",
       "    </tr>\n",
       "    <tr>\n",
       "      <th>max</th>\n",
       "      <td>1.000000</td>\n",
       "      <td>1.000000</td>\n",
       "      <td>1.000000</td>\n",
       "      <td>1.000000</td>\n",
       "      <td>1.000000</td>\n",
       "      <td>0.830000</td>\n",
       "      <td>0.730000</td>\n",
       "      <td>1.000000</td>\n",
       "    </tr>\n",
       "  </tbody>\n",
       "</table>\n",
       "</div>"
      ],
      "text/plain": [
       "               mcg          gvh          alm          mit          erl  \\\n",
       "count  1484.000000  1484.000000  1484.000000  1484.000000  1484.000000   \n",
       "mean      0.500121     0.499933     0.500034     0.261186     0.504717   \n",
       "std       0.137299     0.123924     0.086670     0.137098     0.048351   \n",
       "min       0.110000     0.130000     0.210000     0.000000     0.500000   \n",
       "25%       0.410000     0.420000     0.460000     0.170000     0.500000   \n",
       "50%       0.490000     0.490000     0.510000     0.220000     0.500000   \n",
       "75%       0.580000     0.570000     0.550000     0.320000     0.500000   \n",
       "max       1.000000     1.000000     1.000000     1.000000     1.000000   \n",
       "\n",
       "               pox          vac          nuc  \n",
       "count  1484.000000  1484.000000  1484.000000  \n",
       "mean      0.007500     0.499885     0.276199  \n",
       "std       0.075683     0.057797     0.106491  \n",
       "min       0.000000     0.000000     0.000000  \n",
       "25%       0.000000     0.480000     0.220000  \n",
       "50%       0.000000     0.510000     0.220000  \n",
       "75%       0.000000     0.530000     0.300000  \n",
       "max       0.830000     0.730000     1.000000  "
      ]
     },
     "execution_count": 9,
     "metadata": {},
     "output_type": "execute_result"
    }
   ],
   "source": [
    "# some useful informations from X\n",
    "X.describe()"
   ]
  },
  {
   "cell_type": "code",
   "execution_count": 10,
   "id": "4ab30602",
   "metadata": {},
   "outputs": [
    {
     "data": {
      "text/html": [
       "<div>\n",
       "<style scoped>\n",
       "    .dataframe tbody tr th:only-of-type {\n",
       "        vertical-align: middle;\n",
       "    }\n",
       "\n",
       "    .dataframe tbody tr th {\n",
       "        vertical-align: top;\n",
       "    }\n",
       "\n",
       "    .dataframe thead th {\n",
       "        text-align: right;\n",
       "    }\n",
       "</style>\n",
       "<table border=\"1\" class=\"dataframe\">\n",
       "  <thead>\n",
       "    <tr style=\"text-align: right;\">\n",
       "      <th></th>\n",
       "      <th>localization_site</th>\n",
       "    </tr>\n",
       "  </thead>\n",
       "  <tbody>\n",
       "    <tr>\n",
       "      <th>count</th>\n",
       "      <td>1484</td>\n",
       "    </tr>\n",
       "    <tr>\n",
       "      <th>unique</th>\n",
       "      <td>10</td>\n",
       "    </tr>\n",
       "    <tr>\n",
       "      <th>top</th>\n",
       "      <td>CYT</td>\n",
       "    </tr>\n",
       "    <tr>\n",
       "      <th>freq</th>\n",
       "      <td>463</td>\n",
       "    </tr>\n",
       "  </tbody>\n",
       "</table>\n",
       "</div>"
      ],
      "text/plain": [
       "       localization_site\n",
       "count               1484\n",
       "unique                10\n",
       "top                  CYT\n",
       "freq                 463"
      ]
     },
     "execution_count": 10,
     "metadata": {},
     "output_type": "execute_result"
    }
   ],
   "source": [
    "# some useful informations from y\n",
    "y.describe()"
   ]
  },
  {
   "cell_type": "markdown",
   "id": "e716e096",
   "metadata": {},
   "source": [
    "For numerical columns, describe gave us some helpful informations like count, mean, std, quartiles, etc for every column.\n",
    "\n",
    "Due to we have no numerical values in our target data set, describe gave us how many unique values, what is their freq, etc. It is the description of our y.\n",
    "\n",
    "That's it. Right now, we can start our <code>Data Preprocessing</code>."
   ]
  },
  {
   "cell_type": "markdown",
   "id": "40e4f0d0",
   "metadata": {},
   "source": [
    "### Data Preprocessing\n",
    "\n",
    "So far, we learned that our data set has no missing value. After that, we can start our data preprocessing part of the project.\n",
    "\n",
    "Here, we will prepare our data set and control our variables for creation of our models. Let's start with <code>y</code>."
   ]
  },
  {
   "cell_type": "code",
   "execution_count": 11,
   "id": "bd912431",
   "metadata": {},
   "outputs": [
    {
     "data": {
      "text/html": [
       "<div>\n",
       "<style scoped>\n",
       "    .dataframe tbody tr th:only-of-type {\n",
       "        vertical-align: middle;\n",
       "    }\n",
       "\n",
       "    .dataframe tbody tr th {\n",
       "        vertical-align: top;\n",
       "    }\n",
       "\n",
       "    .dataframe thead th {\n",
       "        text-align: right;\n",
       "    }\n",
       "</style>\n",
       "<table border=\"1\" class=\"dataframe\">\n",
       "  <thead>\n",
       "    <tr style=\"text-align: right;\">\n",
       "      <th></th>\n",
       "      <th>localization_site</th>\n",
       "    </tr>\n",
       "  </thead>\n",
       "  <tbody>\n",
       "    <tr>\n",
       "      <th>0</th>\n",
       "      <td>MIT</td>\n",
       "    </tr>\n",
       "    <tr>\n",
       "      <th>1</th>\n",
       "      <td>MIT</td>\n",
       "    </tr>\n",
       "    <tr>\n",
       "      <th>2</th>\n",
       "      <td>MIT</td>\n",
       "    </tr>\n",
       "    <tr>\n",
       "      <th>3</th>\n",
       "      <td>NUC</td>\n",
       "    </tr>\n",
       "    <tr>\n",
       "      <th>4</th>\n",
       "      <td>MIT</td>\n",
       "    </tr>\n",
       "  </tbody>\n",
       "</table>\n",
       "</div>"
      ],
      "text/plain": [
       "  localization_site\n",
       "0               MIT\n",
       "1               MIT\n",
       "2               MIT\n",
       "3               NUC\n",
       "4               MIT"
      ]
     },
     "execution_count": 11,
     "metadata": {},
     "output_type": "execute_result"
    }
   ],
   "source": [
    "# first 5 columns of y\n",
    "y.head()"
   ]
  },
  {
   "cell_type": "markdown",
   "id": "d8558bf5",
   "metadata": {},
   "source": [
    "Here, we can control the unique values of <code>localization_site</code> from our target data set. If there is no values like strings, we are successful."
   ]
  },
  {
   "cell_type": "code",
   "execution_count": 12,
   "id": "4ba86b96",
   "metadata": {},
   "outputs": [
    {
     "data": {
      "text/plain": [
       "array(['MIT', 'NUC', 'CYT', 'ME1', 'EXC', 'ME2', 'ME3', 'VAC', 'POX',\n",
       "       'ERL'], dtype=object)"
      ]
     },
     "execution_count": 12,
     "metadata": {},
     "output_type": "execute_result"
    }
   ],
   "source": [
    "# find unique values of y\n",
    "y['localization_site'].unique()"
   ]
  },
  {
   "cell_type": "markdown",
   "id": "2edf294e",
   "metadata": {},
   "source": [
    "Right now, we can make our scaling. Scaling will improve our models performance later. It is one of the important things for data preprocessing part of a data mining project. So it is good to do it.\n",
    "\n",
    "Right now, we will specialize our columns. After this process, <code>y_target</code> become a 1D Pandas series. Our <code>X_features</code> will continue to be 2D. It is because of <code>X_features</code> has double brackets, <code>y_target</code> has just one."
   ]
  },
  {
   "cell_type": "code",
   "execution_count": 13,
   "id": "b70f3d03",
   "metadata": {},
   "outputs": [
    {
     "name": "stdout",
     "output_type": "stream",
     "text": [
      "Type of X_features:\n",
      " <class 'pandas.core.frame.DataFrame'> \n",
      "Type of y_target:\n",
      " <class 'pandas.core.series.Series'>\n",
      "\n",
      "Dimensions of our features variables are 2D, and for target variable 1D.\n"
     ]
    }
   ],
   "source": [
    "# preparing datas for the model training\n",
    "X_features = X[['mcg', 'gvh', 'alm', 'mit', 'erl', 'pox', 'vac', 'nuc']]\n",
    "y_target = y['localization_site']\n",
    "\n",
    "print(\"Type of X_features:\\n\", type(X_features), \"\\nType of y_target:\\n\", type(y_target))\n",
    "print(\"\\nDimensions of our features variables are {}D, and for target variable {}D.\".format(X_features.ndim, y_target.ndim))"
   ]
  },
  {
   "cell_type": "markdown",
   "id": "4030052e",
   "metadata": {},
   "source": [
    "Right now, we are done. We just scale our <code>X_features</code> variable, and we are ready for create our models."
   ]
  },
  {
   "cell_type": "code",
   "execution_count": 14,
   "id": "465b9b9c",
   "metadata": {},
   "outputs": [
    {
     "name": "stdout",
     "output_type": "stream",
     "text": [
      "X_features has been scaled!\n"
     ]
    }
   ],
   "source": [
    "# scale the X_features\n",
    "from sklearn.preprocessing import StandardScaler\n",
    "scaler_X = StandardScaler()\n",
    "X_scaled = scaler_X.fit_transform(X_features)\n",
    "\n",
    "print('X_features has been scaled!')"
   ]
  },
  {
   "cell_type": "markdown",
   "id": "1aeb068d",
   "metadata": {},
   "source": [
    "It is enough for now. Our data set is ready to use."
   ]
  },
  {
   "cell_type": "markdown",
   "id": "69850dd2",
   "metadata": {},
   "source": [
    "### Logistic Regression\n",
    "\n",
    "The time has come for the logistic regression. We will try all of the parameters for <code>train_test_split</code> and print the best one. And we will ignore the errors, because there will be lots of test set without sample error. The reason for this error is that every parameter is tried.\n",
    "\n",
    "As mentioned, every parameter will be tried and we will find the best one. And create our model again with it.\n",
    "\n",
    "And we will print the best logistic regression model's <code>confusion matrix</code>.\n",
    "\n",
    "First of all, let's call the required imports for this model training part."
   ]
  },
  {
   "cell_type": "code",
   "execution_count": 15,
   "id": "fe4a5ab4",
   "metadata": {},
   "outputs": [
    {
     "name": "stdout",
     "output_type": "stream",
     "text": [
      "Everything has imported successfully.\n"
     ]
    }
   ],
   "source": [
    "from sklearn.linear_model import LogisticRegression\n",
    "from sklearn.model_selection import train_test_split\n",
    "from sklearn.metrics import accuracy_score, recall_score, f1_score, confusion_matrix\n",
    "from sklearn.svm import SVC\n",
    "import matplotlib.pyplot as plt\n",
    "import numpy as np\n",
    "\n",
    "print('Everything has imported successfully.')"
   ]
  },
  {
   "cell_type": "markdown",
   "id": "f206b782",
   "metadata": {},
   "source": [
    "After that, as we mentioned above, let's remove the unimportant warnings here."
   ]
  },
  {
   "cell_type": "code",
   "execution_count": 17,
   "id": "132e460b",
   "metadata": {},
   "outputs": [
    {
     "name": "stdout",
     "output_type": "stream",
     "text": [
      "Unimportant warnings removed from here.\n"
     ]
    }
   ],
   "source": [
    "# remove warnings\n",
    "import warnings\n",
    "warnings.filterwarnings('error') \n",
    "warnings.filterwarnings('ignore')\n",
    "\n",
    "print('Unimportant warnings removed from here.')"
   ]
  },
  {
   "cell_type": "markdown",
   "id": "d636fe39",
   "metadata": {},
   "source": [
    "We are ready. Let's do the <code>Logistic Regression</code>."
   ]
  },
  {
   "cell_type": "code",
   "execution_count": 22,
   "id": "f4ac55a6",
   "metadata": {},
   "outputs": [
    {
     "name": "stdout",
     "output_type": "stream",
     "text": [
      "The best Parameters: {'random_state': 72, 'test_size': 0.1}\n",
      "The best Accuracy: 0.6845637583892618\n",
      "The best Recall: 0.6351461766117421\n",
      "The best F1 Score: 0.633902386398765\n",
      "Confusion Matrix:\n",
      " [[38  0  0  0  0  0  3  6  0  0]\n",
      " [ 0  2  0  0  0  0  0  0  0  0]\n",
      " [ 0  0  1  0  0  0  1  0  0  0]\n",
      " [ 0  0  0  3  0  0  0  0  0  0]\n",
      " [ 0  0  0  3  2  2  0  0  0  0]\n",
      " [ 0  0  0  0  1 17  1  0  0  0]\n",
      " [ 9  0  0  0  1  0 19  1  0  0]\n",
      " [12  0  0  0  0  2  0 18  0  0]\n",
      " [ 1  0  0  0  0  0  0  0  2  0]\n",
      " [ 2  0  0  0  0  2  0  0  0  0]]\n"
     ]
    },
    {
     "data": {
      "image/png": "[encoded data removed]",
      "text/plain": [
       "<Figure size 800x600 with 2 Axes>"
      ]
     },
     "metadata": {},
     "output_type": "display_data"
    }
   ],
   "source": [
    "from sklearn.linear_model import LogisticRegression\n",
    "from sklearn.model_selection import train_test_split\n",
    "from sklearn.metrics import accuracy_score, recall_score, f1_score, confusion_matrix\n",
    "import matplotlib.pyplot as plt\n",
    "import numpy as np\n",
    "\n",
    "# logistic regression\n",
    "best_score = 0\n",
    "best_params = {}\n",
    "\n",
    "# create the ranges\n",
    "random_states = range(1, 101)\n",
    "test_sizes = np.arange(0.1, 0.5, 0.05)\n",
    "\n",
    "for random_state in random_states:\n",
    "    for test_size in test_sizes:\n",
    "        # split the data set\n",
    "        X_train, X_test, y_train, y_test = train_test_split(X_scaled, y_target, test_size=test_size, random_state=random_state)\n",
    "\n",
    "        # logistic regression\n",
    "        logreg = LogisticRegression(C = 0.1)\n",
    "        logreg.fit(X_train, y_train)\n",
    "        y_pred = logreg.predict(X_test)\n",
    "\n",
    "        # calculate the values for the model we created\n",
    "        accuracy = accuracy_score(y_test, y_pred)\n",
    "        recall = recall_score(y_test, y_pred, average='macro')\n",
    "        f1 = f1_score(y_test, y_pred, average='macro')\n",
    "\n",
    "        # find the best values\n",
    "        if accuracy > best_score:\n",
    "            best_score = accuracy\n",
    "            best_params = {'random_state': random_state, 'test_size': test_size}\n",
    "            best_recall = recall\n",
    "            best_f1 = f1\n",
    "\n",
    "# print the best values\n",
    "print(f\"The best Parameters: {best_params}\")\n",
    "print(f\"The best Accuracy: {best_score}\")\n",
    "print(f\"The best Recall: {best_recall}\")\n",
    "print(f\"The best F1 Score: {best_f1}\")\n",
    "\n",
    "# create the split and logistic regression again with the best parameters\n",
    "X_train, X_test, y_train, y_test = train_test_split(X_scaled, y_target,\n",
    "                                                    test_size=best_params['test_size'],\n",
    "                                                    random_state=best_params['random_state'])\n",
    "logreg = LogisticRegression(C = 0.1)\n",
    "logreg.fit(X_train, y_train)\n",
    "y_pred = logreg.predict(X_test)\n",
    "\n",
    "# create the confusion matrix and show it with plt\n",
    "cm = confusion_matrix(y_test, y_pred)\n",
    "print('Confusion Matrix:\\n', cm)\n",
    "\n",
    "plt.figure(figsize=(8, 6))\n",
    "plt.imshow(cm, interpolation='nearest', cmap='Blues')\n",
    "plt.colorbar()\n",
    "plt.xticks(np.arange(len(np.unique(y_target))), np.unique(y_target))\n",
    "plt.yticks(np.arange(len(np.unique(y_target))), np.unique(y_target))\n",
    "plt.xlabel('Predicted')\n",
    "plt.ylabel('Actual')\n",
    "plt.title('Confusion Matrix')\n",
    "plt.show()"
   ]
  },
  {
   "cell_type": "markdown",
   "id": "d8ab0516",
   "metadata": {},
   "source": [
    "So, we are done with the <code>Logistic Regression</code>. We will use these values for comparison of SVM and Logistic Regression later in this notebook."
   ]
  },
  {
   "cell_type": "markdown",
   "id": "394004a2",
   "metadata": {},
   "source": [
    "### SVM - Support Vector Machine\n",
    "\n",
    "The time for SVM has come. Here, we will create a <code>Support Vector Machine</code> model. Like <code>Logistic Regression</code>, we will try to find the best parameters and print them. After finding these values, we will compare these models. Let's start."
   ]
  },
  {
   "cell_type": "code",
   "execution_count": 21,
   "id": "ad51eb3a",
   "metadata": {},
   "outputs": [
    {
     "name": "stdout",
     "output_type": "stream",
     "text": [
      "The best Params: {'kernel': 'rbf', 'C': 1, 'test_size': 0.1, 'random_state': 46}\n",
      "The best Accuracy: 0.7248322147651006\n",
      "The best Recall: 0.7048412698412699\n",
      "The best F1 Score: 0.6690018756948457\n",
      "Confusion Matrix:\n",
      " [[37  0  0  0  0  1  1  6  0  0]\n",
      " [ 0  1  0  0  0  0  0  0  0  0]\n",
      " [ 0  0  3  1  0  0  0  0  0  0]\n",
      " [ 0  0  1  4  0  0  0  0  0  0]\n",
      " [ 0  0  0  0  2  2  0  0  0  0]\n",
      " [ 0  0  0  0  0 19  0  1  0  0]\n",
      " [ 6  0  0  0  1  1 14  1  1  0]\n",
      " [13  0  0  0  0  0  2 27  0  0]\n",
      " [ 0  0  0  0  0  0  0  0  1  0]\n",
      " [ 1  0  0  0  1  1  0  0  0  0]]\n"
     ]
    },
    {
     "data": {
      "image/png": "[encoded data removed]",
      "text/plain": [
       "<Figure size 800x600 with 2 Axes>"
      ]
     },
     "metadata": {},
     "output_type": "display_data"
    }
   ],
   "source": [
    "# svm\n",
    "best_score = 0\n",
    "best_params = {}\n",
    "\n",
    "# create the lists of what we will try\n",
    "kernels = ['linear', 'rbf', 'poly']\n",
    "c_values = [0.1, 1, 10, 100]\n",
    "random_states = range(1, 101)\n",
    "test_sizes = np.arange(0.1, 0.5, 0.05)\n",
    "\n",
    "for kernel in kernels:\n",
    "    for c in c_values:\n",
    "        for test_size in test_sizes:\n",
    "            for random_state in random_states:\n",
    "                # split the data set\n",
    "                X_train, X_test, y_train, y_test = train_test_split(X_scaled, y_target, test_size=test_size, random_state=random_state)\n",
    "\n",
    "                # create the svm model\n",
    "                svm = SVC(kernel=kernel, C=c)\n",
    "                svm.fit(X_train, y_train)\n",
    "                y_pred = svm.predict(X_test)\n",
    "\n",
    "                # calculate the accuracy of the model\n",
    "                accuracy = accuracy_score(y_test, y_pred)\n",
    "                recall = recall_score(y_test, y_pred, average='macro')\n",
    "                f1 = f1_score(y_test, y_pred, average='macro')\n",
    "\n",
    "                # find the best parameters for the model\n",
    "                if accuracy > best_score:\n",
    "                    best_score = accuracy\n",
    "                    best_params = {'kernel': kernel, 'C': c, 'test_size': test_size, 'random_state': random_state}\n",
    "                    best_recall = recall\n",
    "                    best_f1 = f1\n",
    "\n",
    "# print the informations about the best parameters of  the model\n",
    "print(f\"The best Params: {best_params}\")\n",
    "print(f\"The best Accuracy: {best_score}\")\n",
    "print(f\"The best Recall: {best_recall}\")\n",
    "print(f\"The best F1 Score: {best_f1}\")\n",
    "\n",
    "# create model again with the best parameters\n",
    "X_train, X_test, y_train, y_test = train_test_split(X_scaled, y_target, test_size=best_params['test_size'], random_state=best_params['random_state'])\n",
    "svm = SVC(kernel=best_params['kernel'], C=best_params['C'])\n",
    "svm.fit(X_train, y_train)\n",
    "y_pred = svm.predict(X_test)\n",
    "\n",
    "# creation of confusion matrix for svm\n",
    "cm = confusion_matrix(y_test, y_pred)\n",
    "print('Confusion Matrix:\\n', cm)\n",
    "plt.figure(figsize=(8, 6))\n",
    "plt.imshow(cm, interpolation='nearest', cmap='Blues')\n",
    "plt.colorbar()\n",
    "plt.xticks(np.arange(len(np.unique(y_target))), np.unique(y_target))\n",
    "plt.yticks(np.arange(len(np.unique(y_target))), np.unique(y_target))\n",
    "plt.xlabel('Predicted')\n",
    "plt.ylabel('Actual')\n",
    "plt.title('Confusion Matrix')\n",
    "plt.show()"
   ]
  },
  {
   "cell_type": "markdown",
   "id": "19c16765",
   "metadata": {},
   "source": [
    "We are done with <code>SVM</code>. We will use these parameters after this section."
   ]
  },
  {
   "cell_type": "markdown",
   "id": "9eda7116",
   "metadata": {},
   "source": [
    "### Comparison of SVM and Logistic Regression\n",
    "\n",
    "Now, we will compare the models we create. This section will show that which one will be helpful for us in the future.\n",
    "\n",
    "Let's create the plot."
   ]
  },
  {
   "cell_type": "code",
   "execution_count": 23,
   "id": "b766284e",
   "metadata": {},
   "outputs": [
    {
     "data": {
      "image/png": "[encoded data removed]",
      "text/plain": [
       "<Figure size 640x480 with 1 Axes>"
      ]
     },
     "metadata": {},
     "output_type": "display_data"
    }
   ],
   "source": [
    "# model names\n",
    "models = ['Logistic Regression', 'SVM']\n",
    "\n",
    "# values of the models\n",
    "accuracies = [0.6845637583892618, 0.7248322147651006]\n",
    "recalls = [0.6351461766117421, 0.7048412698412699]\n",
    "f1_scores = [0.633902386398765, 0.6690018756948457]\n",
    "\n",
    "# the bar width\n",
    "bar_width = 0.2\n",
    "\n",
    "# coordinates\n",
    "r1 = range(len(models))\n",
    "r2 = [x + bar_width for x in r1]\n",
    "r3 = [x + bar_width for x in r2]\n",
    "\n",
    "# create the plot\n",
    "plt.bar(r1, accuracies, color='b', width=bar_width, edgecolor='grey', label='Accuracy')\n",
    "plt.bar(r2, recalls, color='g', width=bar_width, edgecolor='grey', label='Recall')\n",
    "plt.bar(r3, f1_scores, color='r', width=bar_width, edgecolor='grey', label='F1 Score')\n",
    "plt.xlabel('Models', fontweight='bold')\n",
    "plt.xticks([r + bar_width for r in range(len(models))], models)\n",
    "plt.ylabel('Scores', fontweight='bold')\n",
    "plt.title('Performance Comparison of Models')\n",
    "plt.legend()\n",
    "plt.show()"
   ]
  },
  {
   "cell_type": "markdown",
   "id": "263131b4",
   "metadata": {},
   "source": [
    "Here, we can clearly see that <code>SVM</code> is better than <code>Logistic Regression</code>. <code>SVM</code> has 72% of accuracy, 70% of recall, and 67% of F1 Score which is better than 68%-63%-63% (Logistic Regression).\n",
    "\n",
    "You have reached the end of this project."
   ]
  },
  {
   "cell_type": "markdown",
   "id": "c8b2b85d",
   "metadata": {},
   "source": [
    "## Author\n",
    "\n",
    "### Mert Kont"
   ]
  }
 ],
 "metadata": {
  "kernelspec": {
   "display_name": "Python 3 (ipykernel)",
   "language": "python",
   "name": "python3"
  },
  "language_info": {
   "codemirror_mode": {
    "name": "ipython",
    "version": 3
   },
   "file_extension": ".py",
   "mimetype": "text/x-python",
   "name": "python",
   "nbconvert_exporter": "python",
   "pygments_lexer": "ipython3",
   "version": "3.11.5"
  }
 },
 "nbformat": 4,
 "nbformat_minor": 5
}
